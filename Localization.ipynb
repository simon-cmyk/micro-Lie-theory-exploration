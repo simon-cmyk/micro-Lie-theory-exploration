{
 "cells": [
  {
   "cell_type": "markdown",
   "metadata": {},
   "source": [
    "# V. Landmark-based Localization and mapping. \n",
    "## Section A. Localization with error-state Kalman filter on manifold\n",
    "Based on the [paper](https://arxiv.org/abs/1812.01537) by Sola and [manifpy](https://artivis.github.io/manif/python/) examples. "
   ]
  },
  {
   "cell_type": "code",
   "execution_count": 42,
   "metadata": {},
   "outputs": [],
   "source": [
    "from manifpy import SE2, SE2Tangent\n",
    "import matplotlib.pyplot as plt\n",
    "import numpy as np\n",
    "from numpy.linalg import inv"
   ]
  },
  {
   "cell_type": "code",
   "execution_count": 43,
   "metadata": {},
   "outputs": [],
   "source": [
    "# START CONFIGURATION\n",
    "\n",
    "NUMBER_OF_LMKS_TO_MEASURE = 3\n",
    "\n",
    "# Define the robot pose element and its covariance\n",
    "X_simulation = SE2.Identity()\n",
    "X = SE2.Identity()\n",
    "X_unfiltered = SE2.Identity()\n",
    "P = np.zeros((3, 3))\n",
    "\n",
    "u_nom = np.array([0.1, 0.0, 0.05])\n",
    "u_sigmas = np.array([0.1, 0.1, 0.1])\n",
    "U = np.diagflat(np.square(u_sigmas))\n",
    "\n",
    "# Declare the Jacobians of the motion wrt robot and control\n",
    "J_x = np.zeros((3, 3))\n",
    "J_u = np.zeros((3, 3))\n",
    "\n",
    "landmarks = np.array([\n",
    "    [2.0,  0.0],\n",
    "    [2.0,  1.0],\n",
    "    [2.0, -1.0]\n",
    "])\n",
    "\n",
    "measurements = [np.array([0, 0])] * NUMBER_OF_LMKS_TO_MEASURE\n",
    "\n",
    "y_sigmas = np.array([0.01, 0.01])\n",
    "R = np.diagflat(np.square(y_sigmas))\n",
    "\n",
    "J_xi_x = np.zeros((3, 3))\n",
    "J_e_xi = np.zeros((2, 3))"
   ]
  },
  {
   "cell_type": "code",
   "execution_count": 44,
   "metadata": {},
   "outputs": [],
   "source": [
    "np.set_printoptions(precision=3, suppress=True)"
   ]
  },
  {
   "cell_type": "code",
   "execution_count": 45,
   "metadata": {},
   "outputs": [
    {
     "name": "stdout",
     "output_type": "stream",
     "text": [
      "X STATE     :    X      Y      Z    TH_x   TH_y   TH_z \n",
      "-------------------------------------------------------\n",
      "X initial   :  [0. 0. 0.]\n",
      "-------------------------------------------------------\n"
     ]
    }
   ],
   "source": [
    "print('X STATE     :    X      Y      Z    TH_x   TH_y   TH_z ')\n",
    "print('-------------------------------------------------------')\n",
    "print('X initial   : ', X_simulation.log().coeffs())\n",
    "print('-------------------------------------------------------')"
   ]
  },
  {
   "cell_type": "code",
   "execution_count": 46,
   "metadata": {},
   "outputs": [],
   "source": [
    "X_simmed = np.zeros((10, 2))\n",
    "X_ested = np.zeros((10, 2))"
   ]
  },
  {
   "cell_type": "code",
   "execution_count": 47,
   "metadata": {},
   "outputs": [
    {
     "name": "stdout",
     "output_type": "stream",
     "text": [
      "X simulated :  [0.1  0.   0.05]\n",
      "X estimated :  [ 0.095 -0.005  0.049]\n",
      "X unfilterd :  [0.132 0.089 0.108]\n",
      "-------------------------------------------------------\n",
      "X simulated :  [ 0.2 -0.   0.1]\n",
      "X estimated :  [ 0.194 -0.005  0.1  ]\n",
      "X unfilterd :  [0.274 0.155 0.215]\n",
      "-------------------------------------------------------\n",
      "X simulated :  [ 0.3  -0.    0.15]\n",
      "X estimated :  [ 0.295 -0.012  0.152]\n",
      "X unfilterd :  [0.438 0.172 0.268]\n",
      "-------------------------------------------------------\n",
      "X simulated :  [ 0.4 -0.   0.2]\n",
      "X estimated :  [0.397 0.001 0.198]\n",
      "X unfilterd :  [0.534 0.254 0.361]\n",
      "-------------------------------------------------------\n",
      "X simulated :  [0.5  0.   0.25]\n",
      "X estimated :  [ 0.496 -0.01   0.252]\n",
      "X unfilterd :  [0.684 0.331 0.485]\n",
      "-------------------------------------------------------\n",
      "X simulated :  [ 0.6 -0.   0.3]\n",
      "X estimated :  [ 0.595 -0.003  0.299]\n",
      "X unfilterd :  [0.819 0.414 0.555]\n",
      "-------------------------------------------------------\n",
      "X simulated :  [ 0.7  -0.    0.35]\n",
      "X estimated :  [ 0.697 -0.008  0.351]\n",
      "X unfilterd :  [0.982 0.428 0.702]\n",
      "-------------------------------------------------------\n",
      "X simulated :  [ 0.8 -0.   0.4]\n",
      "X estimated :  [ 0.797 -0.006  0.401]\n",
      "X unfilterd :  [1.151 0.513 0.789]\n",
      "-------------------------------------------------------\n",
      "X simulated :  [ 0.9  -0.    0.45]\n",
      "X estimated :  [ 0.899 -0.01   0.451]\n",
      "X unfilterd :  [1.316 0.554 0.932]\n",
      "-------------------------------------------------------\n",
      "X simulated :  [1.  0.  0.5]\n",
      "X estimated :  [1.001 0.002 0.495]\n",
      "X unfilterd :  [1.442 0.615 1.045]\n",
      "-------------------------------------------------------\n"
     ]
    }
   ],
   "source": [
    "for t in range(10):\n",
    "        # I. Simulation\n",
    "\n",
    "        # simulate noise\n",
    "        u_noise = u_sigmas * np.random.rand(SE2.DoF)        # control noise\n",
    "        u_noisy = u_nom + u_noise                           # noisy control\n",
    "\n",
    "        u_simu = SE2Tangent(u_nom)\n",
    "        u_est = SE2Tangent(u_noisy)\n",
    "        u_unfilt = SE2Tangent(u_noisy)\n",
    "\n",
    "        # first we move\n",
    "        X_simulation = X_simulation + u_simu                # overloaded X.rplus(u) = X * exp(u)\n",
    "\n",
    "        # then we measure all landmarks\n",
    "        for i in range(NUMBER_OF_LMKS_TO_MEASURE):\n",
    "            b = landmarks[i]                                # lmk coordinates in world frame\n",
    "\n",
    "            # simulate noise\n",
    "            y_noise = y_sigmas * np.random.rand(SE2.Dim)    # measurement noise\n",
    "\n",
    "            y = X_simulation.inverse().act(b)               # landmark measurement, before adding noise\n",
    "\n",
    "            y = y + y_noise                                 # landmark measurement, noisy\n",
    "            measurements[i] = y                             # store for the estimator just below\n",
    "\n",
    "        # II. Estimation\n",
    "\n",
    "        # First we move\n",
    "\n",
    "        X = X.plus(u_est, J_x, J_u)                         # X * exp(u), with Jacobians\n",
    "\n",
    "        P = J_x @ P @ J_x.transpose() + J_u @ U @ J_u.transpose()\n",
    "\n",
    "        # Then we correct using the measurements of each lmk\n",
    "        for i in range(NUMBER_OF_LMKS_TO_MEASURE):\n",
    "            # landmark\n",
    "            b = landmarks[i]                                # lmk coordinates in world frame\n",
    "\n",
    "            # measurement\n",
    "            y = measurements[i]                             # lmk measurement, noisy\n",
    "\n",
    "            # expectation\n",
    "            e = X.inverse(J_xi_x).act(b, J_e_xi)            # note: e = R.tr * ( b - t ), for X = (R,t).\n",
    "            H = J_e_xi @ J_xi_x                             # Jacobian of the measurements wrt the robot pose. note: H = J_e_x = J_e_xi * J_xi_x\n",
    "            E = H @ P @ H.transpose()\n",
    "\n",
    "            # innovation\n",
    "            z = y - e\n",
    "            Z = E + R\n",
    "\n",
    "            # Kalman gain\n",
    "            K = P @ H.transpose() @ inv(Z)                  # K = P * H.tr * ( H * P * H.tr + R).inv\n",
    "\n",
    "            # Correction step\n",
    "            dx = K @ z                                      # dx is in the tangent space at X\n",
    "\n",
    "            # Update\n",
    "            X = X + SE2Tangent(dx)                          # overloaded X.rplus(dx) = X * exp(dx)\n",
    "            P = P - K @ Z @ K.transpose()\n",
    "\n",
    "        # III. Unfiltered\n",
    "\n",
    "        # move also an unfiltered version for comparison purposes\n",
    "        X_unfiltered = X_unfiltered + u_unfilt\n",
    "\n",
    "        # IV. Results\n",
    "\n",
    "        # DEBUG\n",
    "        X_simmed[t, :] =  np.array([X_simulation.x(), X_simulation.y()])\n",
    "        X_ested[t, :] =  np.array([X.x(), X.y()])\n",
    "        print('X simulated : ', X_simulation.log().coeffs().transpose())\n",
    "        print('X estimated : ', X.log().coeffs().transpose())\n",
    "        print('X unfilterd : ', X_unfiltered.log().coeffs().transpose())\n",
    "        print('-------------------------------------------------------')\n",
    "        # END DEBUG\n"
   ]
  },
  {
   "cell_type": "code",
   "execution_count": 51,
   "metadata": {},
   "outputs": [
    {
     "data": {
      "image/png": "[encoded data removed]",
      "text/plain": [
       "<Figure size 640x480 with 1 Axes>"
      ]
     },
     "metadata": {},
     "output_type": "display_data"
    }
   ],
   "source": [
    "plt.figure()\n",
    "plt.scatter(X_simmed[:, 0], X_simmed[:, 1], color='k', label='simulated')\n",
    "plt.scatter(X_ested[:, 0], X_ested[:, 1], color='r', label='estimated')\n",
    "# plt.scatter(landmarks[:, 0], landmarks[:, 1], color='y', marker='*', label='Landmarks')\n",
    "plt.legend()\n",
    "plt.show()"
   ]
  }
 ],
 "metadata": {
  "kernelspec": {
   "display_name": "lie_theory",
   "language": "python",
   "name": "python3"
  },
  "language_info": {
   "codemirror_mode": {
    "name": "ipython",
    "version": 3
   },
   "file_extension": ".py",
   "mimetype": "text/x-python",
   "name": "python",
   "nbconvert_exporter": "python",
   "pygments_lexer": "ipython3",
   "version": "3.9.19"
  }
 },
 "nbformat": 4,
 "nbformat_minor": 2
}
