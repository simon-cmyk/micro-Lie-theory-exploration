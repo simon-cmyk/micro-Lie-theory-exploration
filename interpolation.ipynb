{
 "cells": [
  {
   "cell_type": "markdown",
   "metadata": {},
   "source": [
    "# A motivation for using Lie theory\n",
    "\n",
    "This script shows four ways of simple interpolating.\n",
    "The last is the valid lie theory interpolation as shown in the book found at Tussendrotten [Vslam](https://github.com/tussedrotten/vslam-handbook), p.36.\n"
   ]
  },
  {
   "cell_type": "code",
   "execution_count": null,
   "metadata": {},
   "outputs": [],
   "source": [
    "import manifpy as manif\n",
    "import numpy as np\n",
    "import matplotlib.pyplot as plt\n",
    "import numpy as np\n",
    "import transforms3d as tf\n",
    "%matplotlib widget"
   ]
  },
  {
   "cell_type": "code",
   "execution_count": null,
   "metadata": {},
   "outputs": [],
   "source": [
    "def visualize_rotation(R, i):\n",
    "    ax.quiver(0, 0, 0, R[0, 0], R[1, 0], R[2, 0], color='red', arrow_length_ratio=0.1, alpha=i)\n",
    "    ax.quiver(0, 0, 0, R[0, 1], R[1, 1], R[2, 1], color='green', arrow_length_ratio=0.1, alpha=i)\n",
    "    ax.quiver(0, 0, 0, R[0, 2], R[1, 2], R[2, 2], color='blue', arrow_length_ratio=0.1, alpha=i)\n",
    "    ax.set_xlim([-1, 1])\n",
    "    ax.set_ylim([-1, 1])\n",
    "    ax.set_zlim([-1, 1])\n",
    "    ax.set_xlabel('X')\n",
    "    ax.set_ylabel('Y')\n",
    "    ax.set_zlabel('Z')"
   ]
  },
  {
   "cell_type": "markdown",
   "metadata": {},
   "source": [
    "A simple example showing how one can't interpolate between two matrix representations. \n",
    "\n",
    "$$\n",
    "\\mathbb{R}_i = \\mathbb{R}_s + i \\cdot (\\mathbb{R}_f - \\mathbb{R}_s)\n",
    "$$\n",
    "Where $i \\in [0, 1]$\n",
    "\n",
    "This is of course not valid, since $\\mathbb{R}_j \\not \\in SO3 \\; \\text{for some} \\; j \\in [0, 1] $ "
   ]
  },
  {
   "cell_type": "code",
   "execution_count": null,
   "metadata": {},
   "outputs": [],
   "source": [
    "Matrix_start = tf.euler.euler2mat(0,0,0)\n",
    "Matrix_end = tf.euler.euler2mat(np.pi/3, -np.pi/4, np.pi/2)\n",
    "fig = plt.figure()\n",
    "ax = fig.add_subplot(111, projection='3d')\n",
    "for i in np.arange(0, 1, 0.1):\n",
    "    intermediate = Matrix_start + (Matrix_end - Matrix_start) * i\n",
    "    visualize_rotation(intermediate, i)\n",
    "ax.set_title('Using Rotation matrix interpolation')\n",
    "plt.show()\n"
   ]
  },
  {
   "cell_type": "markdown",
   "metadata": {},
   "source": [
    "Can also interpolate between two euler angle representations. This is better \n",
    "\n",
    "$$\n",
    "\\boldsymbol{\\theta}_i = \\boldsymbol{\\theta}_s + i \\cdot (\\boldsymbol{\\theta}_f - \\boldsymbol{\\theta}_s)\n",
    "$$\n",
    "Where $i \\in [0, 1]$"
   ]
  },
  {
   "cell_type": "code",
   "execution_count": null,
   "metadata": {},
   "outputs": [],
   "source": [
    "Euler_start = np.array([0,0,0])\n",
    "Euler_end = np.array([np.pi/3, -np.pi/4, np.pi/2])\n",
    "\n",
    "interpol_eul = []\n",
    "\n",
    "fig = plt.figure()\n",
    "ax = fig.add_subplot(111, projection='3d')\n",
    "for i in np.arange(0, 1.1, 0.1):\n",
    "    intermediate = Euler_start + (Euler_end - Euler_start) * i\n",
    "    rotmat = tf.euler.euler2mat(intermediate[0], intermediate[1], intermediate[2])\n",
    "    visualize_rotation(rotmat, i)\n",
    "    interpol_eul.append(rotmat)\n",
    "ax.set_title('Using Euler angle interpolation')\n",
    "plt.show()"
   ]
  },
  {
   "cell_type": "markdown",
   "metadata": {},
   "source": [
    "Can also interpolate between two quaternion representations. This is even better \n",
    "\n",
    "$$\n",
    "\\boldsymbol{q}_i = \\boldsymbol{q}_s + i \\cdot (\\boldsymbol{q}_f - \\boldsymbol{q}_s)\n",
    "$$\n",
    "Where $i \\in [0, 1]$"
   ]
  },
  {
   "cell_type": "code",
   "execution_count": null,
   "metadata": {},
   "outputs": [],
   "source": [
    "quat_start = tf.euler.euler2quat(0,0,0)\n",
    "quat_end = tf.euler.euler2quat(np.pi/3, -np.pi/4, np.pi/2)\n",
    "\n",
    "interpol_quat = []\n",
    "\n",
    "fig = plt.figure()\n",
    "ax = fig.add_subplot(111, projection='3d')\n",
    "for i in np.arange(0, 1.1, 0.1):\n",
    "    intermediate = quat_start + (quat_end - quat_start) * i\n",
    "    rotmat = tf.euler.quat2mat(intermediate)\n",
    "    visualize_rotation(rotmat, i)\n",
    "    interpol_quat.append(rotmat)\n",
    "ax.set_title('Using Quaternion interpolation')\n",
    "plt.show()"
   ]
  },
  {
   "cell_type": "markdown",
   "metadata": {},
   "source": [
    "The correct way would be to use the special operators from lie theory\n",
    "\n",
    "$$\n",
    "\\boldsymbol{\\theta}_i = \\boldsymbol{\\theta}_s \\oplus i \\cdot (\\boldsymbol{\\theta}_f \\ominus \\boldsymbol{\\theta}_s)\n",
    "$$\n",
    "Where $i \\in [0, 1]$"
   ]
  },
  {
   "cell_type": "code",
   "execution_count": null,
   "metadata": {},
   "outputs": [],
   "source": [
    "Matrix_start = manif.SO3.Identity()\n",
    "Matrix_end = manif.SO3(np.pi/3, -np.pi/4, np.pi/2)\n",
    "interpol_lie = []\n",
    "fig = plt.figure()\n",
    "ax = fig.add_subplot(111, projection='3d')\n",
    "for i in np.arange(0, 1.1, 0.1):\n",
    "    intermediate = Matrix_start.plus(i * Matrix_end.minus(Matrix_start))\n",
    "    visualize_rotation(intermediate.rotation(), i)\n",
    "    interpol_lie.append(intermediate.rotation())\n",
    "ax.set_title('Using interpolation based on lie theory')\n",
    "plt.show()"
   ]
  },
  {
   "cell_type": "markdown",
   "metadata": {},
   "source": [
    "We can now show how wrong our interpolation is by comparing the interpolated matrix with the correct lie theory interpolation.\n",
    "For metric we have used the L2 norm of the residual between the Rotation matrices"
   ]
  },
  {
   "cell_type": "code",
   "execution_count": null,
   "metadata": {},
   "outputs": [],
   "source": [
    "plt.figure()\n",
    "residual_euler = np.array(interpol_lie) - np.array(interpol_eul)\n",
    "residual_quat = np.array(interpol_lie) - np.array(interpol_quat)\n",
    "\n",
    "e_eul = [np.linalg.norm(res) for res in residual_euler]\n",
    "e_quat = [np.linalg.norm(res) for res in residual_quat]\n",
    "\n",
    "plt.plot(e_eul, label=\"euler\")\n",
    "plt.plot(e_quat, label=\"quaternion\")\n",
    "plt.legend()\n",
    "plt.title(\"Pose error\")\n",
    "plt.xlabel(\"iteration\")\n",
    "plt.ylabel(\"residual error\")\n",
    "\n",
    "plt.show()"
   ]
  },
  {
   "cell_type": "markdown",
   "metadata": {},
   "source": [
    "This shows that the quaternion is closer to the correct value. Also we can see that the error is largest for the euler angle representation in the middle. This makes sense since the euler angle representation is not a good representation for interpolation. We can also plot the two matrices for seeing the difference"
   ]
  },
  {
   "cell_type": "code",
   "execution_count": null,
   "metadata": {},
   "outputs": [],
   "source": [
    "fig = plt.figure()\n",
    "ax = fig.add_subplot(111, projection='3d')\n",
    "ax.set_title(\"biggest difference between euler- and lie group interpolation\")\n",
    "R = interpol_eul[5]\n",
    "ax.quiver(0, 0, 0, R[0, 0], R[1, 0], R[2, 0], color='red', arrow_length_ratio=0.1, alpha=1)\n",
    "ax.quiver(0, 0, 0, R[0, 1], R[1, 1], R[2, 1], color='red', arrow_length_ratio=0.1, alpha=1)\n",
    "ax.quiver(0, 0, 0, R[0, 2], R[1, 2], R[2, 2], color='red', arrow_length_ratio=0.1, alpha=1, label=\"euler\")\n",
    "R = interpol_lie[5]\n",
    "ax.quiver(0, 0, 0, R[0, 0], R[1, 0], R[2, 0], color='blue', arrow_length_ratio=0.1, alpha=1)\n",
    "ax.quiver(0, 0, 0, R[0, 1], R[1, 1], R[2, 1], color='blue', arrow_length_ratio=0.1, alpha=1)\n",
    "ax.quiver(0, 0, 0, R[0, 2], R[1, 2], R[2, 2], color='blue', arrow_length_ratio=0.1, alpha=1, label=\"lie\")\n",
    "ax.set_xlim([-1, 1])\n",
    "ax.set_ylim([-1, 1])\n",
    "ax.set_zlim([-1, 1])\n",
    "plt.legend()\n",
    "plt.show()"
   ]
  },
  {
   "cell_type": "markdown",
   "metadata": {},
   "source": [
    "This shows how important it is to use proper rigorous math when interpolating between two rotations."
   ]
  }
 ],
 "metadata": {
  "kernelspec": {
   "display_name": "lie_theory",
   "language": "python",
   "name": "python3"
  },
  "language_info": {
   "codemirror_mode": {
    "name": "ipython",
    "version": 3
   },
   "file_extension": ".py",
   "mimetype": "text/x-python",
   "name": "python",
   "nbconvert_exporter": "python",
   "pygments_lexer": "ipython3",
   "version": "3.9.19"
  }
 },
 "nbformat": 4,
 "nbformat_minor": 2
}
