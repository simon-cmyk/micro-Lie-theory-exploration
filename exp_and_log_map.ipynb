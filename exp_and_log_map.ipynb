{
 "cells": [
  {
   "cell_type": "markdown",
   "metadata": {},
   "source": [
    "# Visualization of Example 1 & 2 from the sola paper "
   ]
  },
  {
   "cell_type": "markdown",
   "metadata": {},
   "source": [
    "This is a python notebook for visualizing the connection between lie group mapping, using a slider to change the value of the parameters.\n",
    "For that we will use some python libraries like `numpy`, `matplotlib` and `ipywidgets` and `manifpy`."
   ]
  },
  {
   "cell_type": "code",
   "execution_count": null,
   "metadata": {},
   "outputs": [],
   "source": [
    "from manifpy import *\n",
    "import matplotlib.pyplot as plt\n",
    "from matplotlib.widgets import Slider\n",
    "import numpy as np\n",
    "from mpl_toolkits.mplot3d import Axes3D\n",
    "%matplotlib widget"
   ]
  },
  {
   "cell_type": "markdown",
   "metadata": {},
   "source": [
    "## 2d plot of the example 1 from the paper"
   ]
  },
  {
   "cell_type": "markdown",
   "metadata": {},
   "source": [
    "The following shows the $S^1$ (the unit complex numbers).\n",
    "In our code we define the SO2Tangent and use exp and log to map between the lie group and the lie algebra. The exp function wraps the tangent vector over the surface without changing its length. Similarly the log function unwraps the tangent vector from the surface to the tangent space."
   ]
  },
  {
   "cell_type": "code",
   "execution_count": null,
   "metadata": {},
   "outputs": [],
   "source": [
    "def update(val):\n",
    "    dstate = SO2Tangent(val) \n",
    "    \n",
    "    state = dstate.exp()\n",
    "    \n",
    "    dot.set_data([state.real()], [state.imag()])\n",
    "    line.set_data([0, state.real()], [0, state.imag()])\n",
    "    red_line.set_data([1, 1], [0, val])\n",
    "    text.set_text(f'z = [{state.coeffs()[0]:.2f}, {state.coeffs()[1]:.2f}]')\n",
    "    \n",
    "    theta_value = val\n",
    "    theta_text.set_text(f'\\u03B8 = {theta_value:.2f}')\n",
    "    \n",
    "    plt.draw()\n",
    "\n",
    "fig, ax = plt.subplots(figsize=(8, 9))\n",
    "plt.subplots_adjust(bottom=0.25)\n",
    "ax.set_title(\"Example 1 Unit complex numbers group\")\n",
    "theta = np.linspace(0, 2*np.pi, 100)\n",
    "ax.plot(np.cos(theta), np.sin(theta), color='grey')\n",
    "\n",
    "dstate = SO2Tangent(1)\n",
    "state = dstate.exp()\n",
    "\n",
    "line, = ax.plot([0, state.real()], [0, state.imag()], 'k-')  \n",
    "ax.plot([0, 1], [0, 0], 'k-')  \n",
    "red_line, = ax.plot([1, 1], [0, dstate.coeffs()[0]], 'r-', label=r'$\\theta$') \n",
    "\n",
    "dot, = ax.plot(state.real(), state.imag(), 'ro', label='z')\n",
    "text = ax.text(0.5, 1.2, f'z = [{state.coeffs()[0]:.2f}, {state.coeffs()[1]:.2f}]', verticalalignment='bottom', horizontalalignment='right')\n",
    "\n",
    "theta_value = dstate.coeffs()[0]\n",
    "theta_text = ax.text(1.2, 1, f'\\u03B8 = {theta_value}', verticalalignment='bottom')\n",
    "\n",
    "slider_w = 0.65\n",
    "slider_h = 0.03\n",
    "slider_l = (1 - slider_w) / 2\n",
    "slider_b = 0.1\n",
    "ax_th = plt.axes([slider_l, slider_b, slider_w, slider_h])\n",
    "slider_re = Slider(ax_th, 'Theta', -np.pi, np.pi, valinit=dstate.coeffs()[0])\n",
    "\n",
    "slider_re.on_changed(update)\n",
    "slider_re.valmin =-np.pi\n",
    "slider_re.valmax = np.pi\n",
    "\n",
    "ax.set_xlabel('X-axis')\n",
    "ax.set_ylabel('Y-axis')\n",
    "ax.set_aspect('equal')\n",
    "ax.legend(loc='lower left')\n",
    "ax.set_xlim(-2.3, 2.3)\n",
    "ax.set_ylim(-2.3, 2.3)\n",
    "ax.grid(True)\n",
    "plt.show()"
   ]
  },
  {
   "cell_type": "markdown",
   "metadata": {},
   "source": [
    "We have the constraint that\n",
    "\n",
    "$$\n",
    "\\begin{align*}\n",
    "z^{\\top} z &= 1 \\\\\n",
    "\\dot{z}^{\\top}z + z^{\\top}\\dot{z} &= 0 \\\\\n",
    "z^{\\top}\\dot{z} &= - \\dot{z}^{\\top}z = - (z^{\\top}\\dot{z})^{\\top}\n",
    "\\end{align*}\n",
    "$$\n",
    "Which is only true if \n",
    "$$\n",
    "\\begin{align*}\n",
    "\\dot{z} = z \\cdot i \\omega\n",
    "\\end{align*}\n",
    "$$\n",
    "And in our case\n",
    "$$\n",
    "z^{\\top} = 1\n",
    "$$\n",
    "So the derivative is purely imaginary. Meaning that it is on the red line"
   ]
  },
  {
   "cell_type": "markdown",
   "metadata": {},
   "source": [
    "## 3d plot of example 2 from the paper"
   ]
  },
  {
   "cell_type": "markdown",
   "metadata": {},
   "source": [
    "The following shows the $S^3$ (the unit quaternions group).\n",
    "In our code we define the SO3Tangent and use exp and log to map between the lie group and the lie algebra. The exp function wraps the tangent vector over the surface without changing its length. Similarly the log function unwraps the tangent vector from the surface to the tangent space. We needed to make changes since the library defines things in the NED frame while our visualization is in the ENU frame. "
   ]
  },
  {
   "cell_type": "code",
   "execution_count": null,
   "metadata": {},
   "outputs": [],
   "source": [
    "def update(val):\n",
    "    theta1 = slider_theta1.val\n",
    "    theta2 = slider_theta2.val\n",
    "    dstate = SO3Tangent(np.array([0, -theta2, theta1]))\n",
    "    state = dstate.exp()\n",
    "    R = state.rotation()\n",
    "    x, y, z = R[:, 0]\n",
    "    \n",
    "    line.set_data([0, x], [0, y])\n",
    "    line.set_3d_properties([0, z])\n",
    "    \n",
    "    red_line.set_data([1, 1], [0, theta1])\n",
    "    red_line.set_3d_properties([0, theta2])\n",
    "    \n",
    "    dot.set_data([x], [y])\n",
    "    dot.set_3d_properties([z])\n",
    "    \n",
    "    text.set_text(f'z = [{x:.2f}, {y:.2f}, {z:.2f}]')\n",
    "    \n",
    "    theta_text.set_text(f'\\u03B8 = [0, {theta1:.2f}, {theta2:.2f}]')\n",
    "    \n",
    "    plt.draw()\n",
    "\n",
    "fig = plt.figure(figsize=(10, 8))\n",
    "ax = fig.add_subplot(111, projection='3d')\n",
    "ax.set_title(\"3D Example with the unit quaternion group\")\n",
    "\n",
    "u = np.linspace(0, 2 * np.pi, 100)\n",
    "v = np.linspace(0, np.pi, 100)\n",
    "x = np.outer(np.cos(u), np.sin(v))\n",
    "y = np.outer(np.sin(u), np.sin(v))\n",
    "z = np.outer(np.ones(np.size(u)), np.cos(v))\n",
    "ax.plot_surface(x, y, z, color='b', alpha=0.2)\n",
    "\n",
    "x_plane = np.ones(100)\n",
    "y_plane = np.linspace(-1, 1, 100)\n",
    "z_plane = np.linspace(-1, 1, 100)\n",
    "Y_plane, Z_plane = np.meshgrid(y_plane, z_plane)\n",
    "X_plane = np.ones_like(x_plane)\n",
    "ax.plot_surface(X_plane, Y_plane, Z_plane, color='r', alpha=0.2)\n",
    "\n",
    "theta_initial_val = 1\n",
    "red_line, = ax.plot([1, 1], [0, theta_initial_val], [0, theta_initial_val], 'r-', label=r'$\\theta$')\n",
    "ax.plot([0, 1], [0, 0], [0, 0], 'k-')  \n",
    "\n",
    "dstate = SO3Tangent(np.array([0, -1, 1]))\n",
    "state = dstate.exp()\n",
    "R = state.rotation()\n",
    "x, y, z = R[:, 0]\n",
    "dot, = ax.plot([x], [y], [z], 'ro', label='z')\n",
    "line, = ax.plot([0, x], [0, y], [0, z], 'k-')\n",
    "\n",
    "text = ax.text(0.5, 1.1, 1.5, '', verticalalignment='bottom', horizontalalignment='right')\n",
    "theta_text = ax.text(0.5, 1.3, 1.1, '', verticalalignment='bottom', horizontalalignment='right')\n",
    "\n",
    "slider_w = 0.65\n",
    "slider_h = 0.03\n",
    "slider_l = (1 - slider_w) / 2\n",
    "slider_b = 0.10\n",
    "\n",
    "ax_theta1 = plt.axes([slider_l, slider_b, slider_w, slider_h])\n",
    "ax_theta2 = plt.axes([slider_l, slider_b - 0.05, slider_w, slider_h])\n",
    "slider_theta1 = Slider(ax_theta1, 'Theta1', -np.pi, np.pi, valinit=theta_initial_val)\n",
    "slider_theta2 = Slider(ax_theta2, 'Theta2', -np.pi, np.pi, valinit=theta_initial_val)\n",
    "\n",
    "slider_theta1.on_changed(update)\n",
    "slider_theta2.on_changed(update)\n",
    "\n",
    "ax.set_box_aspect([1,1,1])\n",
    "ax.set_xlabel('X-axis')\n",
    "ax.set_ylabel('Y-axis')\n",
    "ax.set_zlabel('Z-axis')\n",
    "ax.legend(loc='lower left')\n",
    "ax.set_xlim(-2.3, 2.3)\n",
    "ax.set_ylim(-2.3, 2.3)\n",
    "ax.set_zlim(-2.3, 2.3)\n",
    "plt.show()"
   ]
  }
 ],
 "metadata": {
  "kernelspec": {
   "display_name": "lie_theory",
   "language": "python",
   "name": "python3"
  },
  "language_info": {
   "codemirror_mode": {
    "name": "ipython",
    "version": 3
   },
   "file_extension": ".py",
   "mimetype": "text/x-python",
   "name": "python",
   "nbconvert_exporter": "python",
   "pygments_lexer": "ipython3",
   "version": "3.9.19"
  }
 },
 "nbformat": 4,
 "nbformat_minor": 2
}
